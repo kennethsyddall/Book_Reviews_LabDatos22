{
 "cells": [
  {
   "cell_type": "code",
   "execution_count": 1,
   "id": "fec229bb-9e13-4b96-b705-ecee73e791ce",
   "metadata": {
    "tags": []
   },
   "outputs": [
    {
     "data": {
      "text/html": [
       "<div>\n",
       "<style scoped>\n",
       "    .dataframe tbody tr th:only-of-type {\n",
       "        vertical-align: middle;\n",
       "    }\n",
       "\n",
       "    .dataframe tbody tr th {\n",
       "        vertical-align: top;\n",
       "    }\n",
       "\n",
       "    .dataframe thead th {\n",
       "        text-align: right;\n",
       "    }\n",
       "</style>\n",
       "<table border=\"1\" class=\"dataframe\">\n",
       "  <thead>\n",
       "    <tr style=\"text-align: right;\">\n",
       "      <th></th>\n",
       "      <th>user_id</th>\n",
       "      <th>book_id</th>\n",
       "      <th>review_id</th>\n",
       "      <th>rating</th>\n",
       "      <th>review_text</th>\n",
       "      <th>date_added</th>\n",
       "      <th>date_updated</th>\n",
       "      <th>read_at</th>\n",
       "      <th>started_at</th>\n",
       "      <th>n_votes</th>\n",
       "      <th>n_comments</th>\n",
       "    </tr>\n",
       "  </thead>\n",
       "  <tbody>\n",
       "    <tr>\n",
       "      <th>0</th>\n",
       "      <td>8842281e1d1347389f2ab93d60773d4d</td>\n",
       "      <td>18245960</td>\n",
       "      <td>dfdbb7b0eb5a7e4c26d59a937e2e5feb</td>\n",
       "      <td>5</td>\n",
       "      <td>This is a special book. It started slow for ab...</td>\n",
       "      <td>Sun Jul 30 07:44:10 -0700 2017</td>\n",
       "      <td>Wed Aug 30 00:00:26 -0700 2017</td>\n",
       "      <td>Sat Aug 26 12:05:52 -0700 2017</td>\n",
       "      <td>Tue Aug 15 13:23:18 -0700 2017</td>\n",
       "      <td>28</td>\n",
       "      <td>1</td>\n",
       "    </tr>\n",
       "    <tr>\n",
       "      <th>1</th>\n",
       "      <td>8842281e1d1347389f2ab93d60773d4d</td>\n",
       "      <td>16981</td>\n",
       "      <td>a5d2c3628987712d0e05c4f90798eb67</td>\n",
       "      <td>3</td>\n",
       "      <td>Recommended by Don Katz. Avail for free in Dec...</td>\n",
       "      <td>Mon Dec 05 10:46:44 -0800 2016</td>\n",
       "      <td>Wed Mar 22 11:37:04 -0700 2017</td>\n",
       "      <td>NaN</td>\n",
       "      <td>NaN</td>\n",
       "      <td>1</td>\n",
       "      <td>0</td>\n",
       "    </tr>\n",
       "    <tr>\n",
       "      <th>2</th>\n",
       "      <td>8842281e1d1347389f2ab93d60773d4d</td>\n",
       "      <td>28684704</td>\n",
       "      <td>2ede853b14dc4583f96cf5d120af636f</td>\n",
       "      <td>3</td>\n",
       "      <td>A fun, fast paced science fiction thriller. I ...</td>\n",
       "      <td>Tue Nov 15 11:29:22 -0800 2016</td>\n",
       "      <td>Mon Mar 20 23:40:27 -0700 2017</td>\n",
       "      <td>Sat Mar 18 23:22:42 -0700 2017</td>\n",
       "      <td>Fri Mar 17 23:45:40 -0700 2017</td>\n",
       "      <td>22</td>\n",
       "      <td>0</td>\n",
       "    </tr>\n",
       "    <tr>\n",
       "      <th>3</th>\n",
       "      <td>8842281e1d1347389f2ab93d60773d4d</td>\n",
       "      <td>27161156</td>\n",
       "      <td>ced5675e55cd9d38a524743f5c40996e</td>\n",
       "      <td>0</td>\n",
       "      <td>Recommended reading to understand what is goin...</td>\n",
       "      <td>Wed Nov 09 17:37:04 -0800 2016</td>\n",
       "      <td>Wed Nov 09 17:38:20 -0800 2016</td>\n",
       "      <td>NaN</td>\n",
       "      <td>NaN</td>\n",
       "      <td>5</td>\n",
       "      <td>1</td>\n",
       "    </tr>\n",
       "    <tr>\n",
       "      <th>4</th>\n",
       "      <td>8842281e1d1347389f2ab93d60773d4d</td>\n",
       "      <td>25884323</td>\n",
       "      <td>332732725863131279a8e345b63ac33e</td>\n",
       "      <td>4</td>\n",
       "      <td>I really enjoyed this book, and there is a lot...</td>\n",
       "      <td>Mon Apr 25 09:31:23 -0700 2016</td>\n",
       "      <td>Mon Apr 25 09:31:23 -0700 2016</td>\n",
       "      <td>Sun Jun 26 00:00:00 -0700 2016</td>\n",
       "      <td>Sat May 28 00:00:00 -0700 2016</td>\n",
       "      <td>9</td>\n",
       "      <td>1</td>\n",
       "    </tr>\n",
       "  </tbody>\n",
       "</table>\n",
       "</div>"
      ],
      "text/plain": [
       "                            user_id   book_id  \\\n",
       "0  8842281e1d1347389f2ab93d60773d4d  18245960   \n",
       "1  8842281e1d1347389f2ab93d60773d4d     16981   \n",
       "2  8842281e1d1347389f2ab93d60773d4d  28684704   \n",
       "3  8842281e1d1347389f2ab93d60773d4d  27161156   \n",
       "4  8842281e1d1347389f2ab93d60773d4d  25884323   \n",
       "\n",
       "                          review_id  rating  \\\n",
       "0  dfdbb7b0eb5a7e4c26d59a937e2e5feb       5   \n",
       "1  a5d2c3628987712d0e05c4f90798eb67       3   \n",
       "2  2ede853b14dc4583f96cf5d120af636f       3   \n",
       "3  ced5675e55cd9d38a524743f5c40996e       0   \n",
       "4  332732725863131279a8e345b63ac33e       4   \n",
       "\n",
       "                                         review_text  \\\n",
       "0  This is a special book. It started slow for ab...   \n",
       "1  Recommended by Don Katz. Avail for free in Dec...   \n",
       "2  A fun, fast paced science fiction thriller. I ...   \n",
       "3  Recommended reading to understand what is goin...   \n",
       "4  I really enjoyed this book, and there is a lot...   \n",
       "\n",
       "                       date_added                    date_updated  \\\n",
       "0  Sun Jul 30 07:44:10 -0700 2017  Wed Aug 30 00:00:26 -0700 2017   \n",
       "1  Mon Dec 05 10:46:44 -0800 2016  Wed Mar 22 11:37:04 -0700 2017   \n",
       "2  Tue Nov 15 11:29:22 -0800 2016  Mon Mar 20 23:40:27 -0700 2017   \n",
       "3  Wed Nov 09 17:37:04 -0800 2016  Wed Nov 09 17:38:20 -0800 2016   \n",
       "4  Mon Apr 25 09:31:23 -0700 2016  Mon Apr 25 09:31:23 -0700 2016   \n",
       "\n",
       "                          read_at                      started_at  n_votes  \\\n",
       "0  Sat Aug 26 12:05:52 -0700 2017  Tue Aug 15 13:23:18 -0700 2017       28   \n",
       "1                             NaN                             NaN        1   \n",
       "2  Sat Mar 18 23:22:42 -0700 2017  Fri Mar 17 23:45:40 -0700 2017       22   \n",
       "3                             NaN                             NaN        5   \n",
       "4  Sun Jun 26 00:00:00 -0700 2016  Sat May 28 00:00:00 -0700 2016        9   \n",
       "\n",
       "   n_comments  \n",
       "0           1  \n",
       "1           0  \n",
       "2           0  \n",
       "3           1  \n",
       "4           1  "
      ]
     },
     "execution_count": 1,
     "metadata": {},
     "output_type": "execute_result"
    }
   ],
   "source": [
    "import pandas as pd\n",
    "\n",
    "df = pd.read_csv('goodreads_train.csv')\n",
    "df.head()"
   ]
  },
  {
   "cell_type": "code",
   "execution_count": 2,
   "id": "fba4289e-122a-4f0f-80dd-746a6b119eda",
   "metadata": {},
   "outputs": [
    {
     "data": {
      "text/plain": [
       "Index(['user_id', 'book_id', 'review_id', 'rating', 'review_text',\n",
       "       'date_added', 'date_updated', 'read_at', 'started_at', 'n_votes',\n",
       "       'n_comments'],\n",
       "      dtype='object')"
      ]
     },
     "execution_count": 2,
     "metadata": {},
     "output_type": "execute_result"
    }
   ],
   "source": [
    "df.columns"
   ]
  },
  {
   "cell_type": "code",
   "execution_count": 3,
   "id": "2f2c81f6-0b68-4be6-8879-3e0de9cb4464",
   "metadata": {},
   "outputs": [
    {
     "data": {
      "text/plain": [
       "4    313688\n",
       "5    265007\n",
       "3    188972\n",
       "2     72627\n",
       "0     30988\n",
       "1     28718\n",
       "Name: rating, dtype: int64"
      ]
     },
     "execution_count": 3,
     "metadata": {},
     "output_type": "execute_result"
    }
   ],
   "source": [
    "df['rating'].value_counts()"
   ]
  },
  {
   "cell_type": "code",
   "execution_count": 4,
   "id": "56e47553-4ea8-4bb1-9c09-4f7f8ed11047",
   "metadata": {},
   "outputs": [
    {
     "name": "stdout",
     "output_type": "stream",
     "text": [
      "Train set values:\n",
      "0    20102\n",
      "5    20102\n",
      "4    20102\n",
      "3    20102\n",
      "2    20102\n",
      "1    20102\n",
      "Name: rating, dtype: int64\n",
      "Test set values:\n",
      "4    293586\n",
      "5    244905\n",
      "3    168870\n",
      "2     52525\n",
      "0     10886\n",
      "1      8616\n",
      "Name: rating, dtype: int64\n"
     ]
    }
   ],
   "source": [
    "def train_test_split(df):\n",
    "    valcounts = df['rating'].value_counts()\n",
    "    df_test = df.copy()\n",
    "    for i in range(6):\n",
    "        indx_tot = df[df.rating.eq(i)].index\n",
    "        indx_dif = []\n",
    "        indx = df[df.rating.eq(i)].sample(valcounts[i]-20102).index\n",
    "        df.drop(indx, inplace=True)\n",
    "        for val in indx_tot:\n",
    "            if val not in indx:\n",
    "                indx_dif.append(val)\n",
    "        df_test.drop(indx_dif, inplace=True)\n",
    "    print('Train set values:')\n",
    "    print(df['rating'].value_counts())\n",
    "    print('Test set values:')\n",
    "    print(df_test['rating'].value_counts())\n",
    "    return(df, df_test)\n",
    "\n",
    "df_train, df_test = train_test_split(df)\n",
    "del df"
   ]
  },
  {
   "cell_type": "markdown",
   "id": "5da90c31-6038-46d0-8164-788e208540b8",
   "metadata": {},
   "source": [
    "Veo primero si leyeron el libro"
   ]
  },
  {
   "cell_type": "code",
   "execution_count": 5,
   "id": "2c292874-892d-46ff-91bd-9a62099ab15c",
   "metadata": {},
   "outputs": [
    {
     "name": "stdout",
     "output_type": "stream",
     "text": [
      "No empezaron y no terminaron 15.86%\n"
     ]
    }
   ],
   "source": [
    "print(f'No empezaron y no terminaron {len(df_train.query(\"read_at.isnull() and started_at.isnull()\", engine=\"python\"))/len(df_train)*100 :.2f}%')"
   ]
  },
  {
   "cell_type": "code",
   "execution_count": 6,
   "id": "d6c7bd71-6469-4057-bb5c-477119fbccb3",
   "metadata": {},
   "outputs": [
    {
     "name": "stdout",
     "output_type": "stream",
     "text": [
      "Terminaron pero no empezaron 3.16%\n"
     ]
    }
   ],
   "source": [
    "print(f'Terminaron pero no empezaron {len(df_train.query(\"read_at.isnull() and not started_at.isnull()\", engine=\"python\"))/len(df_train)*100 :.2f}%')"
   ]
  },
  {
   "cell_type": "code",
   "execution_count": 7,
   "id": "f44f93b0-0a49-46c6-8c34-04fd7736288b",
   "metadata": {},
   "outputs": [
    {
     "name": "stdout",
     "output_type": "stream",
     "text": [
      "Empezaron y no terminaron 20.49%\n"
     ]
    }
   ],
   "source": [
    "print(f'Empezaron y no terminaron {len(df_train.query(\"not read_at.isnull() and started_at.isnull()\", engine=\"python\"))/len(df_train)*100 :.2f}%')"
   ]
  },
  {
   "cell_type": "code",
   "execution_count": 8,
   "id": "64afe9bc-36e7-45b2-bfc5-7019f816ec75",
   "metadata": {},
   "outputs": [
    {
     "name": "stdout",
     "output_type": "stream",
     "text": [
      "Empezaron y terminaron 60.49%\n"
     ]
    }
   ],
   "source": [
    "print(f'Empezaron y terminaron {len(df_train.query(\"not read_at.isnull() and not started_at.isnull()\", engine=\"python\"))/len(df_train)*100 :.2f}%')"
   ]
  },
  {
   "cell_type": "code",
   "execution_count": 9,
   "id": "c8f93d23-e32d-45f9-aed0-1c2b4a8687d8",
   "metadata": {},
   "outputs": [],
   "source": [
    "import re\n",
    "import string   # libreria de cadena de caracteres\n",
    "import contractions\n",
    "\n",
    "def clean_text(text):\n",
    "    text = re.sub(r'http\\S+', '', text)\n",
    "    text = contractions.fix(text)\n",
    "    \n",
    "    # pasa las mayusculas del texto a minusculas\n",
    "    text = text.lower()                                              \n",
    "    # reemplaza texto entre corchetes por espacio en blanco.. ¿ y \\% no se..\n",
    "    text = re.sub('\\[.*?¿\\]\\%', ' ', text)                           \n",
    "    # reemplaza signos de puntuacion por espacio en blanco.. %s -> \\S+ es cualquier caracter que no sea un espacio en blanco\n",
    "    text = re.sub('[%s]' % re.escape(string.punctuation), ' ', text) \n",
    "    # remueve palabras que contienen numeros.\n",
    "    text = re.sub('\\w*\\d\\w*', '', text)\n",
    "    \n",
    "    # Sacamos comillas, los puntos suspensivos, <<, >>\n",
    "    text = re.sub('[‘’“”…«»]', '', text)\n",
    "    text = re.sub('\\n', ' ', text)\n",
    "    return text\n",
    "\n",
    "round0 = lambda x: clean_text(x)\n",
    "\n",
    "# Dataframe que resulta de aplicarle a las columnas la funcion de limpieza\n",
    "review_text = pd.DataFrame(df_train.review_text.apply(round0))\n",
    "\n",
    "df_train.drop('review_text', axis=1, inplace=True)\n",
    "\n",
    "df_train['review_text'] = review_text\n",
    "\n",
    "del(review_text)"
   ]
  },
  {
   "cell_type": "code",
   "execution_count": 10,
   "id": "252af056-7e70-4f5a-935c-45985bb71edf",
   "metadata": {},
   "outputs": [
    {
     "name": "stderr",
     "output_type": "stream",
     "text": [
      "[nltk_data] Downloading package wordnet to /home/kenneths/nltk_data...\n",
      "[nltk_data]   Package wordnet is already up-to-date!\n",
      "[nltk_data] Downloading package stopwords to\n",
      "[nltk_data]     /home/kenneths/nltk_data...\n",
      "[nltk_data]   Package stopwords is already up-to-date!\n"
     ]
    }
   ],
   "source": [
    "import nltk\n",
    "from nltk.stem import WordNetLemmatizer\n",
    "nltk.download('wordnet')\n",
    "lemmatizer = WordNetLemmatizer() # funcion para lematizar\n",
    "nltk.download('stopwords') # hay que descargar este modulo en particular\n",
    "sw = nltk.corpus.stopwords.words('english') # lista de stopwords\n",
    "\n",
    "def remove_sw(text):\n",
    "    words = text.split(' ') # separamos por espacios\n",
    "    words_clean = []\n",
    "    for w in words:\n",
    "        if not w in sw: # si no es stopword, agregamos la version lematizada\n",
    "            words_clean.append(lemmatizer.lemmatize(w))\n",
    "    return ' '.join(words_clean)\n",
    "\n",
    "round3 = lambda x: remove_sw(x)\n",
    " \n",
    "review_text =  pd.DataFrame(df_train.review_text.apply(round3))\n",
    "\n",
    "df_train.drop('review_text', axis=1, inplace=True)\n",
    "\n",
    "df_train['review_text'] = review_text\n",
    "\n",
    "del(review_text)"
   ]
  },
  {
   "cell_type": "code",
   "execution_count": 11,
   "id": "9d2847ad-203b-45d1-add9-b735f88f6c01",
   "metadata": {},
   "outputs": [],
   "source": [
    "import time\n",
    "from gensim.models import Word2Vec\n",
    "\n",
    "size = 300\n",
    "stemmed_tokens = pd.Series(df_train['review_text']).values\n",
    "# Train the Word2Vec Model\n",
    "w2v_model = Word2Vec(min_count=1, # ignora palabras cuya frecuencia es menor a esta\n",
    "                     vector_size=size,\n",
    "                     sample=6e-5, # umbral para downsamplear palabras muy frecuentes\n",
    "                     alpha=0.03, # tasa de aprendizaje inicial (entrenamiento de la red neuronal)\n",
    "                     min_alpha=0.0007, # tasa de aprendizaje minima\n",
    "                     negative=20) # penalidad de palabras muy frecuentes o poco informaitvas"
   ]
  },
  {
   "cell_type": "code",
   "execution_count": 12,
   "id": "27af51fc-5143-41e0-a4ce-33f87382f476",
   "metadata": {},
   "outputs": [],
   "source": [
    "w2v_model.build_vocab(df_train.review_text)"
   ]
  },
  {
   "cell_type": "code",
   "execution_count": 13,
   "id": "ac86ff28-03f2-429d-9e29-6bb8a1834e58",
   "metadata": {},
   "outputs": [
    {
     "data": {
      "text/plain": [
       "(82963732, 2232517110)"
      ]
     },
     "execution_count": 13,
     "metadata": {},
     "output_type": "execute_result"
    }
   ],
   "source": [
    "w2v_model.train(df_train.review_text,\n",
    "                epochs=30,\n",
    "                total_examples=w2v_model.corpus_count)"
   ]
  },
  {
   "cell_type": "code",
   "execution_count": 14,
   "id": "b3178884-a92b-4afd-a9ad-aa4c7f438074",
   "metadata": {},
   "outputs": [],
   "source": [
    "def buildWordVector(text, size):\n",
    "    vec = np.zeros(size).reshape((1, size))\n",
    "    count = 0.\n",
    "    for word in text:\n",
    "        try:\n",
    "            vec += w2v_model.wv[word].reshape((1, size))\n",
    "            count += 1.\n",
    "        except KeyError:\n",
    "            continue\n",
    "    if count != 0:\n",
    "        vec /= count\n",
    "    return vec"
   ]
  },
  {
   "cell_type": "code",
   "execution_count": 15,
   "id": "6debff3c-8853-4292-8c03-b6d3818ef754",
   "metadata": {},
   "outputs": [],
   "source": [
    "from sklearn.preprocessing import scale\n",
    "import numpy as np\n",
    "n_dim = 300\n",
    "train_vecs = np.concatenate([buildWordVector(z, n_dim) for z in df_train.review_text])\n",
    "train_vecs = scale(train_vecs)"
   ]
  },
  {
   "cell_type": "code",
   "execution_count": 16,
   "id": "d9fbd73f-7562-4cbf-bb32-525740d0d3b6",
   "metadata": {},
   "outputs": [],
   "source": [
    "test_vecs = np.concatenate([buildWordVector(z, n_dim) for z in df_test.review_text])\n",
    "test_vecs = scale(test_vecs)"
   ]
  },
  {
   "cell_type": "code",
   "execution_count": 17,
   "id": "9cc19fef-7d87-4cfc-8e3b-013e08adea63",
   "metadata": {},
   "outputs": [
    {
     "data": {
      "text/plain": [
       "RandomForestClassifier()"
      ]
     },
     "execution_count": 17,
     "metadata": {},
     "output_type": "execute_result"
    }
   ],
   "source": [
    "from sklearn.ensemble import RandomForestClassifier\n",
    "\n",
    "clf = RandomForestClassifier()\n",
    "clf.fit(train_vecs, df_train.rating)"
   ]
  },
  {
   "cell_type": "code",
   "execution_count": 18,
   "id": "72cb617f-fc12-4437-a05e-ec7aa8e3f4ba",
   "metadata": {},
   "outputs": [
    {
     "name": "stdout",
     "output_type": "stream",
     "text": [
      "              precision    recall  f1-score   support\n",
      "\n",
      "           0       0.03      0.50      0.06     10886\n",
      "           1       0.01      0.26      0.03      8616\n",
      "           2       0.08      0.20      0.12     52525\n",
      "           3       0.26      0.17      0.20    168870\n",
      "           4       0.42      0.15      0.22    293586\n",
      "           5       0.41      0.22      0.28    244905\n",
      "\n",
      "    accuracy                           0.18    779388\n",
      "   macro avg       0.20      0.25      0.15    779388\n",
      "weighted avg       0.35      0.18      0.22    779388\n",
      "\n"
     ]
    }
   ],
   "source": [
    "from sklearn.metrics import classification_report\n",
    "\n",
    "y_prob =  clf.predict(test_vecs)\n",
    "\n",
    "print(classification_report(df_test.rating,y_prob))"
   ]
  },
  {
   "cell_type": "code",
   "execution_count": null,
   "id": "955d2bfb-8724-4ead-9f59-b6a74a636b1a",
   "metadata": {},
   "outputs": [],
   "source": []
  }
 ],
 "metadata": {
  "kernelspec": {
   "display_name": "Python 3 (ipykernel)",
   "language": "python",
   "name": "python3"
  },
  "language_info": {
   "codemirror_mode": {
    "name": "ipython",
    "version": 3
   },
   "file_extension": ".py",
   "mimetype": "text/x-python",
   "name": "python",
   "nbconvert_exporter": "python",
   "pygments_lexer": "ipython3",
   "version": "3.9.12"
  }
 },
 "nbformat": 4,
 "nbformat_minor": 5
}
